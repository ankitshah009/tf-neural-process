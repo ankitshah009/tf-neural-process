{
 "cells": [
  {
   "cell_type": "code",
   "execution_count": 1,
   "metadata": {},
   "outputs": [],
   "source": [
    "import matplotlib.pyplot as plt\n",
    "import numpy as np\n",
    "import tensorflow as tf"
   ]
  },
  {
   "cell_type": "code",
   "execution_count": 2,
   "metadata": {},
   "outputs": [
    {
     "name": "stdout",
     "output_type": "stream",
     "text": [
      "\n",
      "WARNING: The TensorFlow contrib module will not be included in TensorFlow 2.0.\n",
      "For more information, please see:\n",
      "  * https://github.com/tensorflow/community/blob/master/rfcs/20180907-contrib-sunset.md\n",
      "  * https://github.com/tensorflow/addons\n",
      "If you depend on functionality not listed there, please file an issue.\n",
      "\n"
     ]
    }
   ],
   "source": [
    "import neural_process\n",
    "from gp_curves import GPCurvesGenerator, plot_func"
   ]
  },
  {
   "cell_type": "code",
   "execution_count": 3,
   "metadata": {},
   "outputs": [],
   "source": [
    "TRAINING_ITERATIONS = int(1e5)\n",
    "MAX_CONTEXT_POINTS = 10\n",
    "PLOT_AFTER = int(1e4)"
   ]
  },
  {
   "cell_type": "code",
   "execution_count": 4,
   "metadata": {},
   "outputs": [],
   "source": [
    "dataset_train = GPCurvesGenerator(batch_size=64, max_size=MAX_CONTEXT_POINTS)\n",
    "data_train = dataset_train.generate()"
   ]
  },
  {
   "cell_type": "code",
   "execution_count": 5,
   "metadata": {},
   "outputs": [],
   "source": [
    "dataset_test = GPCurvesGenerator(batch_size=1, max_size=MAX_CONTEXT_POINTS, testing=True)\n",
    "data_test = dataset_test.generate()"
   ]
  },
  {
   "cell_type": "code",
   "execution_count": 6,
   "metadata": {},
   "outputs": [
    {
     "name": "stdout",
     "output_type": "stream",
     "text": [
      "WARNING:tensorflow:From /anaconda3/lib/python3.7/site-packages/tensorflow/python/ops/resource_variable_ops.py:435: colocate_with (from tensorflow.python.framework.ops) is deprecated and will be removed in a future version.\n",
      "Instructions for updating:\n",
      "Colocations handled automatically by placer.\n",
      "WARNING:tensorflow:From /anaconda3/lib/python3.7/site-packages/tensorflow/python/ops/math_ops.py:3066: to_int32 (from tensorflow.python.ops.math_ops) is deprecated and will be removed in a future version.\n",
      "Instructions for updating:\n",
      "Use tf.cast instead.\n"
     ]
    }
   ],
   "source": [
    "encoder_output_sizes = [128, 128, 128, 128]\n",
    "decoder_output_sizes = [128, 128, 1]\n",
    "\n",
    "model = neural_process.ConditionalNP(encoder_output_sizes, decoder_output_sizes)\n",
    "\n",
    "loss = model.loss(data_train.context,\n",
    "                  data_train.query,\n",
    "                  data_train.target)\n",
    "\n",
    "_, mu, sigma = model(data_test.context, data_test.query)\n",
    "\n",
    "opt = tf.train.AdamOptimizer(1e-4).minimize(loss)"
   ]
  },
  {
   "cell_type": "code",
   "execution_count": 7,
   "metadata": {},
   "outputs": [],
   "source": [
    "# loss_graph = []\n",
    "# with tf.Session() as sess:\n",
    "#     sess.run(tf.global_variables_initializer())\n",
    "\n",
    "#     for i in range(TRAINING_ITERATIONS):\n",
    "#         _, l = sess.run([opt, loss])\n",
    "#         loss_graph.append(l)\n",
    "\n",
    "#         if i % PLOT_AFTER == 0:\n",
    "#             context, query, target, loss_v, pred, var = sess.run([data_test.context,\n",
    "#                                                                   data_test.query,\n",
    "#                                                                   data_test.target,\n",
    "#                                                                   loss, mu, sigma])\n",
    "#             cx, cy = context\n",
    "#             print('Iteration: {}, loss: {}'.format(i, loss_v))\n",
    "\n",
    "#             plot_func(query, target, cx, cy, pred, var)\n",
    "\n",
    "# plt.plot(loss_graph)"
   ]
  },
  {
   "cell_type": "code",
   "execution_count": 8,
   "metadata": {},
   "outputs": [],
   "source": [
    "z_output_sizes = [128, 128, 128, 128]\n",
    "enc_output_sizes = [128, 128, 128, 128]\n",
    "dec_output_sizes = [128, 128, 1]\n",
    "\n",
    "model = neural_process.NeuralProcess(z_output_sizes, enc_output_sizes, dec_output_sizes)\n",
    "\n",
    "loss = model.loss(data_train.context,\n",
    "                  data_train.query,\n",
    "                  data_train.target)\n",
    "\n",
    "_, mu, sigma = model(data_test.context, data_test.query)\n",
    "\n",
    "opt = tf.train.AdamOptimizer(1e-4).minimize(loss)"
   ]
  },
  {
   "cell_type": "code",
   "execution_count": null,
   "metadata": {},
   "outputs": [],
   "source": [
    "# loss_graph = []\n",
    "# with tf.Session() as sess:\n",
    "#     sess.run(tf.global_variables_initializer())\n",
    "\n",
    "#     for i in range(TRAINING_ITERATIONS):\n",
    "#         _, l = sess.run([opt, loss])\n",
    "#         loss_graph.append(l)\n",
    "\n",
    "#         if i % PLOT_AFTER == 0:\n",
    "#             context, query, target, loss_v, pred, var = sess.run([data_test.context,\n",
    "#                                                                   data_test.query,\n",
    "#                                                                   data_test.target,\n",
    "#                                                                   loss, mu, sigma])\n",
    "#             cx, cy = context\n",
    "#             print('Iteration: {}, loss: {}'.format(i, loss_v))\n",
    "\n",
    "#             plot_func(query, target, cx, cy, pred, var)\n",
    "\n",
    "# plt.plot(loss_graph)"
   ]
  },
  {
   "cell_type": "code",
   "execution_count": null,
   "metadata": {},
   "outputs": [],
   "source": [
    "z_output_sizes = [128, 128, 128, 128]\n",
    "enc_output_sizes = [128, 128, 128, 128]\n",
    "cross_output_sizes = [128, 128, 128, 128]\n",
    "dec_output_sizes = [128, 128, 1]\n",
    "\n",
    "self_attention = neural_process.Attention(attention_type='multihead', proj=[128, 128])\n",
    "cross_attention = neural_process.Attention(attention_type='multihead', proj=[128, 128])\n",
    "\n",
    "model = neural_process.AttentiveNP(z_output_sizes,\n",
    "                                   enc_output_sizes,\n",
    "                                   cross_output_sizes,\n",
    "                                   dec_output_sizes,\n",
    "                                   self_attention,\n",
    "                                   cross_attention)\n",
    "\n",
    "loss = model.loss(data_train.context,\n",
    "                  data_train.query,\n",
    "                  data_train.target)\n",
    "\n",
    "_, mu, sigma = model(data_test.context, data_test.query)\n",
    "\n",
    "opt = tf.train.AdamOptimizer(1e-4).minimize(loss)"
   ]
  },
  {
   "cell_type": "code",
   "execution_count": null,
   "metadata": {},
   "outputs": [
    {
     "name": "stdout",
     "output_type": "stream",
     "text": [
      "Iteration: 0, loss: 2691.4306640625\n"
     ]
    },
    {
     "data": {
      "image/png": "[encoded data removed]",
      "text/plain": [
       "<Figure size 432x288 with 1 Axes>"
      ]
     },
     "metadata": {
      "needs_background": "light"
     },
     "output_type": "display_data"
    }
   ],
   "source": [
    "loss_graph = []\n",
    "with tf.Session() as sess:\n",
    "    sess.run(tf.global_variables_initializer())\n",
    "\n",
    "    for i in range(TRAINING_ITERATIONS):\n",
    "        _, l = sess.run([opt, loss])\n",
    "        loss_graph.append(l)\n",
    "\n",
    "        if i % PLOT_AFTER == 0:\n",
    "            context, query, target, loss_v, pred, var = sess.run([data_test.context,\n",
    "                                                                  data_test.query,\n",
    "                                                                  data_test.target,\n",
    "                                                                  loss, mu, sigma])\n",
    "            cx, cy = context\n",
    "            print('Iteration: {}, loss: {}'.format(i, loss_v))\n",
    "\n",
    "            plot_func(query, target, cx, cy, pred, var)\n",
    "\n",
    "plt.plot(loss_graph)"
   ]
  },
  {
   "cell_type": "code",
   "execution_count": null,
   "metadata": {},
   "outputs": [],
   "source": []
  }
 ],
 "metadata": {
  "kernelspec": {
   "display_name": "Python 3",
   "language": "python",
   "name": "python3"
  },
  "language_info": {
   "codemirror_mode": {
    "name": "ipython",
    "version": 3
   },
   "file_extension": ".py",
   "mimetype": "text/x-python",
   "name": "python",
   "nbconvert_exporter": "python",
   "pygments_lexer": "ipython3",
   "version": "3.7.3"
  }
 },
 "nbformat": 4,
 "nbformat_minor": 2
}
